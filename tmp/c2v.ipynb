{
 "cells": [
  {
   "cell_type": "markdown",
   "metadata": {},
   "source": [
    "# code2vec model\n",
    "## Выглядит так: \n",
    "![code2vec](img/code2vec_network.png)\n",
    "\n",
    "1. context vectors получаются из path context reader.\n",
    "2. Преобразовываются fully connected layer в какой-то embed\n",
    "3. \n"
   ]
  },
  {
   "cell_type": "code",
   "execution_count": 1,
   "metadata": {},
   "outputs": [
    {
     "name": "stdout",
     "output_type": "stream",
     "text": [
      "/home/rkulagin/university/IU8-8-3/TiMP-course-project/code/code2vec\n"
     ]
    }
   ],
   "source": [
    "%cd ../"
   ]
  },
  {
   "cell_type": "code",
   "execution_count": 2,
   "metadata": {},
   "outputs": [
    {
     "name": "stdout",
     "output_type": "stream",
     "text": [
      "Creating vocab from dataset/java-small/java-small.c2v.dict\n",
      "Loading frequency dicts from dataset/java-small/java-small.c2v.dict\n",
      "Loading token freq dict\n",
      "Loading path freq dict\n",
      "Loading target freq dict\n",
      "Creating token vocab\n",
      "Creating vocab from frequency dictionary of 3367 elements\n",
      "Created token vocab\n",
      "Creating path vocab\n",
      "Creating vocab from frequency dictionary of 35452 elements\n",
      "Created path vocab\n",
      "Creating target vocab\n",
      "Creating vocab from frequency dictionary of 618 elements\n",
      "Created target vocab\n",
      "Created all vocabs\n"
     ]
    },
    {
     "data": {
      "text/plain": [
       "<tensorflow.python.ops.lookup_ops.StaticHashTable at 0x7f6ca31399e8>"
      ]
     },
     "execution_count": 2,
     "metadata": {},
     "output_type": "execute_result"
    }
   ],
   "source": [
    "import tensorflow as tf\n",
    "import tensorboard\n",
    "import os\n",
    "import datetime\n",
    "import config\n",
    "import numpy as np\n",
    "from vocabulary import Code2VecVocabs\n",
    "from path_context_reader import PathContextReader, ReaderInputTensors\n",
    "config.config.CREATE_VOCAB = True\n",
    "config.config.TRAINING_FREQ_DICTS_PATH = \"dataset/java-small/java-small.c2v.dict\"\n",
    "c2v_vocabs = Code2VecVocabs()\n",
    "pcr = PathContextReader(is_train=True, vocabs=c2v_vocabs, csv_path=\"dataset/java-small/java-small.train_vec.csv\")\n",
    "dataset = pcr.get_dataset()\n",
    "#init lookups\n",
    "c2v_vocabs.target_vocab.get_word_to_index_lookup_table()\n",
    "c2v_vocabs.token_vocab.get_word_to_index_lookup_table()\n",
    "c2v_vocabs.path_vocab.get_word_to_index_lookup_table()\n"
   ]
  },
  {
   "cell_type": "code",
   "execution_count": 3,
   "metadata": {},
   "outputs": [],
   "source": [
    "EMBED_DIMENSION = 200\n",
    "DROPOUT_KEEP_RATE = 0.75\n",
    "TOKEN_VOCAB_SIZE = c2v_vocabs.token_vocab.lookup_table_word_to_index.size().numpy()\n",
    "TARGET_VOCAB_SIZE=c2v_vocabs.target_vocab.lookup_table_word_to_index.size().numpy()\n",
    "PATH_VOCAB_SIZE = c2v_vocabs.path_vocab.lookup_table_word_to_index.size().numpy()"
   ]
  },
  {
   "cell_type": "code",
   "execution_count": 4,
   "metadata": {},
   "outputs": [],
   "source": [
    "source_token_embed = tf.keras.layers.Embedding(input_dim=c2v_vocabs.token_vocab.lookup_table_word_to_index.size(), \n",
    "                                        output_dim=EMBED_DIMENSION,\n",
    "                                        embeddings_initializer='uniform')\n",
    "target_token_embed = tf.keras.layers.Embedding(input_dim=c2v_vocabs.token_vocab.lookup_table_word_to_index.size(), \n",
    "                                        output_dim=EMBED_DIMENSION,\n",
    "                                        embeddings_initializer='uniform')\n",
    "target_embed = tf.keras.layers.Embedding(input_dim=c2v_vocabs.target_vocab.lookup_table_word_to_index.size(), \n",
    "                                        output_dim=EMBED_DIMENSION,\n",
    "                                        embeddings_initializer='uniform')\n",
    "path_embed = tf.keras.layers.Embedding(input_dim=c2v_vocabs.path_vocab.lookup_table_word_to_index.size(), \n",
    "                                        output_dim=EMBED_DIMENSION,\n",
    "                                        embeddings_initializer='uniform')"
   ]
  },
  {
   "cell_type": "code",
   "execution_count": 5,
   "metadata": {},
   "outputs": [],
   "source": [
    "iterator = iter(dataset)\n"
   ]
  },
  {
   "cell_type": "code",
   "execution_count": 6,
   "metadata": {},
   "outputs": [],
   "source": [
    "input_indexes = iterator.get_next()"
   ]
  },
  {
   "cell_type": "code",
   "execution_count": null,
   "metadata": {},
   "outputs": [],
   "source": []
  },
  {
   "cell_type": "code",
   "execution_count": 7,
   "metadata": {},
   "outputs": [],
   "source": [
    "s_t_e = source_token_embed(input_indexes.path_source_token_indices)\n",
    "s_t_e = tf.squeeze(s_t_e)"
   ]
  },
  {
   "cell_type": "code",
   "execution_count": 8,
   "metadata": {},
   "outputs": [],
   "source": [
    "t_t_e = target_token_embed(input_indexes.path_target_token_indices)\n",
    "p_e = path_embed(input_indexes.path_indices)\n",
    "t_t_e = tf.squeeze(t_t_e)\n",
    "p_e = tf.squeeze(p_e)"
   ]
  },
  {
   "cell_type": "code",
   "execution_count": 9,
   "metadata": {},
   "outputs": [],
   "source": [
    "context_embed = tf.keras.layers.Concatenate()([s_t_e, p_e, t_t_e])\n"
   ]
  },
  {
   "cell_type": "code",
   "execution_count": 10,
   "metadata": {},
   "outputs": [
    {
     "ename": "TypeError",
     "evalue": "int() argument must be a string, a bytes-like object or a number, not 'tuple'",
     "output_type": "error",
     "traceback": [
      "\u001b[0;31m---------------------------------------------------------------------------\u001b[0m",
      "\u001b[0;31mTypeError\u001b[0m                                 Traceback (most recent call last)",
      "\u001b[0;32m<ipython-input-10-d6ba71ce76ac>\u001b[0m in \u001b[0;36m<module>\u001b[0;34m\u001b[0m\n\u001b[1;32m      2\u001b[0m \u001b[0mdroped\u001b[0m \u001b[0;34m=\u001b[0m \u001b[0mtf\u001b[0m\u001b[0;34m.\u001b[0m\u001b[0mkeras\u001b[0m\u001b[0;34m.\u001b[0m\u001b[0mlayers\u001b[0m\u001b[0;34m.\u001b[0m\u001b[0mDropout\u001b[0m\u001b[0;34m(\u001b[0m\u001b[0;36m1\u001b[0m\u001b[0;34m-\u001b[0m\u001b[0mDROPOUT_KEEP_RATE\u001b[0m\u001b[0;34m)\u001b[0m\u001b[0;34m(\u001b[0m\u001b[0mcontext_embed\u001b[0m\u001b[0;34m)\u001b[0m\u001b[0;34m\u001b[0m\u001b[0;34m\u001b[0m\u001b[0m\n\u001b[1;32m      3\u001b[0m \u001b[0mflat_embed\u001b[0m \u001b[0;34m=\u001b[0m \u001b[0mtf\u001b[0m\u001b[0;34m.\u001b[0m\u001b[0mkeras\u001b[0m\u001b[0;34m.\u001b[0m\u001b[0mlayers\u001b[0m\u001b[0;34m.\u001b[0m\u001b[0mReshape\u001b[0m\u001b[0;34m(\u001b[0m\u001b[0;34m(\u001b[0m\u001b[0;34m-\u001b[0m\u001b[0;36m1\u001b[0m\u001b[0;34m,\u001b[0m \u001b[0;36m3\u001b[0m\u001b[0;34m*\u001b[0m\u001b[0mEMBED_DIMENSION\u001b[0m\u001b[0;34m)\u001b[0m\u001b[0;34m)\u001b[0m\u001b[0;34m(\u001b[0m\u001b[0mdroped\u001b[0m\u001b[0;34m)\u001b[0m\u001b[0;34m\u001b[0m\u001b[0;34m\u001b[0m\u001b[0m\n\u001b[0;32m----> 4\u001b[0;31m \u001b[0mf_e\u001b[0m \u001b[0;34m=\u001b[0m \u001b[0mtf\u001b[0m\u001b[0;34m.\u001b[0m\u001b[0mkeras\u001b[0m\u001b[0;34m.\u001b[0m\u001b[0mlayers\u001b[0m\u001b[0;34m.\u001b[0m\u001b[0mDense\u001b[0m\u001b[0;34m(\u001b[0m\u001b[0;34m(\u001b[0m\u001b[0mconfig\u001b[0m\u001b[0;34m.\u001b[0m\u001b[0mconfig\u001b[0m\u001b[0;34m.\u001b[0m\u001b[0mBATCH_SIZE\u001b[0m\u001b[0;34m*\u001b[0m\u001b[0mconfig\u001b[0m\u001b[0;34m.\u001b[0m\u001b[0mconfig\u001b[0m\u001b[0;34m.\u001b[0m\u001b[0mMAX_CONTEXTS\u001b[0m\u001b[0;34m,\u001b[0m \u001b[0;36m3\u001b[0m\u001b[0;34m*\u001b[0m\u001b[0mEMBED_DIMENSION\u001b[0m\u001b[0;34m)\u001b[0m\u001b[0;34m,\u001b[0m \u001b[0mactivation\u001b[0m\u001b[0;34m=\u001b[0m\u001b[0mtf\u001b[0m\u001b[0;34m.\u001b[0m\u001b[0mnn\u001b[0m\u001b[0;34m.\u001b[0m\u001b[0mtanh\u001b[0m\u001b[0;34m,\u001b[0m \u001b[0muse_bias\u001b[0m\u001b[0;34m=\u001b[0m\u001b[0;32mTrue\u001b[0m\u001b[0;34m)\u001b[0m \u001b[0;34m(\u001b[0m\u001b[0mflat_embed\u001b[0m\u001b[0;34m)\u001b[0m\u001b[0;34m\u001b[0m\u001b[0;34m\u001b[0m\u001b[0m\n\u001b[0m\u001b[1;32m      5\u001b[0m \u001b[0mcontext_weights\u001b[0m \u001b[0;34m=\u001b[0m \u001b[0mtf\u001b[0m\u001b[0;34m.\u001b[0m\u001b[0mkeras\u001b[0m\u001b[0;34m.\u001b[0m\u001b[0mlayers\u001b[0m\u001b[0;34m.\u001b[0m\u001b[0mDense\u001b[0m\u001b[0;34m(\u001b[0m\u001b[0;34m(\u001b[0m\u001b[0mconfig\u001b[0m\u001b[0;34m.\u001b[0m\u001b[0mconfig\u001b[0m\u001b[0;34m.\u001b[0m\u001b[0mBATCH_SIZE\u001b[0m\u001b[0;34m*\u001b[0m\u001b[0mconfig\u001b[0m\u001b[0;34m.\u001b[0m\u001b[0mconfig\u001b[0m\u001b[0;34m.\u001b[0m\u001b[0mMAX_CONTEXTS\u001b[0m\u001b[0;34m,\u001b[0m \u001b[0;36m1\u001b[0m\u001b[0;34m)\u001b[0m\u001b[0;34m)\u001b[0m\u001b[0;34m(\u001b[0m\u001b[0mf_e\u001b[0m\u001b[0;34m)\u001b[0m\u001b[0;34m\u001b[0m\u001b[0;34m\u001b[0m\u001b[0m\n\u001b[1;32m      6\u001b[0m \u001b[0mbatched_context_weights\u001b[0m \u001b[0;34m=\u001b[0m \u001b[0mtf\u001b[0m\u001b[0;34m.\u001b[0m\u001b[0mkeras\u001b[0m\u001b[0;34m.\u001b[0m\u001b[0mlayers\u001b[0m\u001b[0;34m.\u001b[0m\u001b[0mReshape\u001b[0m\u001b[0;34m(\u001b[0m\u001b[0;34m(\u001b[0m\u001b[0mconfig\u001b[0m\u001b[0;34m.\u001b[0m\u001b[0mconfig\u001b[0m\u001b[0;34m.\u001b[0m\u001b[0mBATCH_SIZE\u001b[0m\u001b[0;34m,\u001b[0m \u001b[0mconfig\u001b[0m\u001b[0;34m.\u001b[0m\u001b[0mconfign\u001b[0m\u001b[0;34m.\u001b[0m\u001b[0mMAX_CONTEXTS\u001b[0m\u001b[0;34m,\u001b[0m \u001b[0;36m1\u001b[0m\u001b[0;34m)\u001b[0m\u001b[0;34m)\u001b[0m\u001b[0;34m(\u001b[0m\u001b[0mcontext_weights\u001b[0m\u001b[0;34m)\u001b[0m\u001b[0;34m\u001b[0m\u001b[0;34m\u001b[0m\u001b[0m\n",
      "\u001b[0;32m~/.local/lib/python3.6/site-packages/tensorflow/python/keras/layers/core.py\u001b[0m in \u001b[0;36m__init__\u001b[0;34m(self, units, activation, use_bias, kernel_initializer, bias_initializer, kernel_regularizer, bias_regularizer, activity_regularizer, kernel_constraint, bias_constraint, **kwargs)\u001b[0m\n\u001b[1;32m   1144\u001b[0m         activity_regularizer=activity_regularizer, **kwargs)\n\u001b[1;32m   1145\u001b[0m \u001b[0;34m\u001b[0m\u001b[0m\n\u001b[0;32m-> 1146\u001b[0;31m     \u001b[0mself\u001b[0m\u001b[0;34m.\u001b[0m\u001b[0munits\u001b[0m \u001b[0;34m=\u001b[0m \u001b[0mint\u001b[0m\u001b[0;34m(\u001b[0m\u001b[0munits\u001b[0m\u001b[0;34m)\u001b[0m \u001b[0;32mif\u001b[0m \u001b[0;32mnot\u001b[0m \u001b[0misinstance\u001b[0m\u001b[0;34m(\u001b[0m\u001b[0munits\u001b[0m\u001b[0;34m,\u001b[0m \u001b[0mint\u001b[0m\u001b[0;34m)\u001b[0m \u001b[0;32melse\u001b[0m \u001b[0munits\u001b[0m\u001b[0;34m\u001b[0m\u001b[0;34m\u001b[0m\u001b[0m\n\u001b[0m\u001b[1;32m   1147\u001b[0m     \u001b[0mself\u001b[0m\u001b[0;34m.\u001b[0m\u001b[0mactivation\u001b[0m \u001b[0;34m=\u001b[0m \u001b[0mactivations\u001b[0m\u001b[0;34m.\u001b[0m\u001b[0mget\u001b[0m\u001b[0;34m(\u001b[0m\u001b[0mactivation\u001b[0m\u001b[0;34m)\u001b[0m\u001b[0;34m\u001b[0m\u001b[0;34m\u001b[0m\u001b[0m\n\u001b[1;32m   1148\u001b[0m     \u001b[0mself\u001b[0m\u001b[0;34m.\u001b[0m\u001b[0muse_bias\u001b[0m \u001b[0;34m=\u001b[0m \u001b[0muse_bias\u001b[0m\u001b[0;34m\u001b[0m\u001b[0;34m\u001b[0m\u001b[0m\n",
      "\u001b[0;31mTypeError\u001b[0m: int() argument must be a string, a bytes-like object or a number, not 'tuple'"
     ]
    }
   ],
   "source": [
    "context_embed = tf.keras.layers.Concatenate()([s_t_e, p_e, t_t_e])\n",
    "droped = tf.keras.layers.Dropout(1-DROPOUT_KEEP_RATE)(context_embed)\n",
    "flat_embed = tf.keras.layers.Reshape((-1, 3*EMBED_DIMENSION))(droped)\n",
    "f_e = tf.keras.layers.Dense((config.config.BATCH_SIZE*config.config.MAX_CONTEXTS, 3*EMBED_DIMENSION), activation=tf.nn.tanh, use_bias=True) (flat_embed)\n",
    "context_weights = tf.keras.layers.Dense((config.config.BATCH_SIZE*config.config.MAX_CONTEXTS, 1))(f_e)\n",
    "batched_context_weights = tf.keras.layers.Reshape((config.config.BATCH_SIZE, config.confign.MAX_CONTEXTS, 1))(context_weights)\n",
    "attention_weights = tf.keras.layers.Softmax(axis=1)(batched_context_weights)\n",
    "batched_embeed = tf.keras.layers.Reshape((-1, self.config.MAX_CONTEXTS, 3*EMBED_DIMENSION))(f_e)\n",
    "code_vectors = tf.keras.layers.multiply(batched_embeed, attention_weights)\n",
    "code_vectors"
   ]
  },
  {
   "cell_type": "code",
   "execution_count": 11,
   "metadata": {},
   "outputs": [],
   "source": [
    "c2v_vocabs.token_vocab.lookup_table_word_to_index.size().numpy()\n",
    "input_data = input_indexes"
   ]
  },
  {
   "cell_type": "code",
   "execution_count": 12,
   "metadata": {
    "scrolled": true
   },
   "outputs": [
    {
     "name": "stdout",
     "output_type": "stream",
     "text": [
      "Model: \"sequential\"\n",
      "_________________________________________________________________\n",
      "Layer (type)                 Output Shape              Param #   \n",
      "=================================================================\n",
      "source_token_embed (Embeddin (None, 300, 200)          673600    \n",
      "=================================================================\n",
      "Total params: 673,600\n",
      "Trainable params: 673,600\n",
      "Non-trainable params: 0\n",
      "_________________________________________________________________\n",
      "None\n",
      "Model: \"sequential_1\"\n",
      "_________________________________________________________________\n",
      "Layer (type)                 Output Shape              Param #   \n",
      "=================================================================\n",
      "paths_embed (Embedding)      (None, 300, 200)          7090600   \n",
      "=================================================================\n",
      "Total params: 7,090,600\n",
      "Trainable params: 7,090,600\n",
      "Non-trainable params: 0\n",
      "_________________________________________________________________\n",
      "None\n",
      "Model: \"sequential_2\"\n",
      "_________________________________________________________________\n",
      "Layer (type)                 Output Shape              Param #   \n",
      "=================================================================\n",
      "target_token_embed (Embeddin (None, 300, 200)          673600    \n",
      "=================================================================\n",
      "Total params: 673,600\n",
      "Trainable params: 673,600\n",
      "Non-trainable params: 0\n",
      "_________________________________________________________________\n",
      "None\n",
      "Model: \"sequential_3\"\n",
      "_________________________________________________________________\n",
      "Layer (type)                 Output Shape              Param #   \n",
      "=================================================================\n",
      "target_embed (Embedding)     (None, 300, 200)          123800    \n",
      "=================================================================\n",
      "Total params: 123,800\n",
      "Trainable params: 123,800\n",
      "Non-trainable params: 0\n",
      "_________________________________________________________________\n",
      "None\n",
      "Model: \"functional_1\"\n",
      "__________________________________________________________________________________________________\n",
      "Layer (type)                    Output Shape         Param #     Connected to                     \n",
      "==================================================================================================\n",
      "input_1 (InputLayer)            [(None, 300)]        0                                            \n",
      "__________________________________________________________________________________________________\n",
      "input_2 (InputLayer)            [(None, 300)]        0                                            \n",
      "__________________________________________________________________________________________________\n",
      "input_3 (InputLayer)            [(None, 300)]        0                                            \n",
      "__________________________________________________________________________________________________\n",
      "source_token_embed (Embedding)  (None, 300, 200)     673600      input_1[0][0]                    \n",
      "__________________________________________________________________________________________________\n",
      "paths_embed (Embedding)         (None, 300, 200)     7090600     input_2[0][0]                    \n",
      "__________________________________________________________________________________________________\n",
      "target_token_embed (Embedding)  (None, 300, 200)     673600      input_3[0][0]                    \n",
      "__________________________________________________________________________________________________\n",
      "concatenated_embeds (Concatenat (None, 300, 600)     0           source_token_embed[0][0]         \n",
      "                                                                 paths_embed[0][0]                \n",
      "                                                                 target_token_embed[0][0]         \n",
      "__________________________________________________________________________________________________\n",
      "dropout_1 (Dropout)             (None, 300, 600)     0           concatenated_embeds[0][0]        \n",
      "__________________________________________________________________________________________________\n",
      "flatten_embeds (Reshape)        (None, 300, 600)     0           dropout_1[0][0]                  \n",
      "__________________________________________________________________________________________________\n",
      "combined_context_vector (Dense) (None, 300, 600)     360600      flatten_embeds[0][0]             \n",
      "__________________________________________________________________________________________________\n",
      "context_weights (Dense)         (None, 300, 1)       601         combined_context_vector[0][0]    \n",
      "__________________________________________________________________________________________________\n",
      "batched_embed (Reshape)         (None, 1, 300, 600)  0           combined_context_vector[0][0]    \n",
      "__________________________________________________________________________________________________\n",
      "attention_weights (Reshape)     (None, 1, 300, 1)    0           context_weights[0][0]            \n",
      "__________________________________________________________________________________________________\n",
      "multiply (Multiply)             (None, 1, 300, 600)  0           batched_embed[0][0]              \n",
      "                                                                 attention_weights[0][0]          \n",
      "==================================================================================================\n",
      "Total params: 8,799,001\n",
      "Trainable params: 8,799,001\n",
      "Non-trainable params: 0\n",
      "__________________________________________________________________________________________________\n",
      "None\n"
     ]
    },
    {
     "data": {
      "image/png": "[encoded data removed]",
      "text/plain": [
       "<IPython.core.display.Image object>"
      ]
     },
     "execution_count": 12,
     "metadata": {},
     "output_type": "execute_result"
    }
   ],
   "source": [
    "input_source_token_embed = tf.keras.Input(shape = (config.config.MAX_CONTEXTS,))\n",
    "source_token_embed = tf.keras.layers.Embedding(input_dim = TOKEN_VOCAB_SIZE, \n",
    "                                    output_dim=EMBED_DIMENSION,\n",
    "                                    embeddings_initializer='uniform',\n",
    "                                    name=\"source_token_embed\") \n",
    "model_1 = tf.keras.Sequential([input_source_token_embed, source_token_embed])\n",
    "m_1 = model_1(input_data.path_source_token_indices)\n",
    "\n",
    "print(model_1.summary())\n",
    "\n",
    "input_paths_embed = tf.keras.Input(shape=(config.config.MAX_CONTEXTS,))\n",
    "paths_embed = tf.keras.layers.Embedding(input_dim=PATH_VOCAB_SIZE, output_dim=EMBED_DIMENSION, embeddings_initializer='uniform', name=\"paths_embed\")\n",
    "model_2 = tf.keras.Sequential([input_paths_embed, paths_embed])\n",
    "m_2 = model_2(input_data.path_indices)\n",
    "print(model_2.summary())\n",
    "\n",
    "\n",
    "input_target_token_embed = tf.keras.Input(shape=(config.config.MAX_CONTEXTS,))\n",
    "target_token_embed = tf.keras.layers.Embedding(input_dim=TOKEN_VOCAB_SIZE, \n",
    "                                        output_dim=EMBED_DIMENSION,\n",
    "                                        embeddings_initializer='uniform',\n",
    "                                              name=\"target_token_embed\")\n",
    "model_3 = tf.keras.Sequential([input_target_token_embed, target_token_embed])\n",
    "m_3 = model_3(input_data.path_source_token_indices)\n",
    "print(model_3.summary())\n",
    "\n",
    "\n",
    "input_target_embed = tf.keras.Input(shape=(config.config.MAX_CONTEXTS,))\n",
    "target_embed = tf.keras.layers.Embedding(input_dim=TARGET_VOCAB_SIZE, \n",
    "                                        output_dim=EMBED_DIMENSION,\n",
    "                                        embeddings_initializer='uniform',\n",
    "                                        name=\"target_embed\")\n",
    "model_4 = tf.keras.Sequential([input_target_embed,target_embed])\n",
    "m_4 = model_4(input_data.target_index)\n",
    "print(model_4.summary())\n",
    "\n",
    "\n",
    "concatenated_embeds = tf.keras.layers.Concatenate(name=\"concatenated_embeds\")([model_1.output, model_2.output, model_3.output])\n",
    "\n",
    "droped_embeds = tf.keras.layers.Dropout(1-DROPOUT_KEEP_RATE)(concatenated_embeds)\n",
    "flatten_embeds = tf.keras.layers.Reshape((-1, 3*EMBED_DIMENSION), name=\"flatten_embeds\")(droped_embeds)\n",
    "combined_context_vector = tf.keras.layers.Dense(3*EMBED_DIMENSION, activation='tanh', name=\"combined_context_vector\")(flatten_embeds)\n",
    "сontext_weights = tf.keras.layers.Dense(1, activation='softmax', name=\"context_weights\")(combined_context_vector)\n",
    "attention_weights = tf.keras.layers.Reshape((-1, config.config.MAX_CONTEXTS, 1), name=\"attention_weights\")(сontext_weights)\n",
    "batched_embed = tf.keras.layers.Reshape((-1, config.config.MAX_CONTEXTS, 3*EMBED_DIMENSION), name=\"batched_embed\") (combined_context_vector)\n",
    "code_vectors = tf.keras.layers.Multiply()([batched_embed, attention_weights])\n",
    "\n",
    "out_model = tf.keras.Model(inputs=[model_1.input, model_2.input, model_3.input], outputs=code_vectors)\n",
    "print(out_model.summary())\n",
    "tf.keras.utils.plot_model(out_model)"
   ]
  },
  {
   "cell_type": "code",
   "execution_count": null,
   "metadata": {},
   "outputs": [],
   "source": []
  },
  {
   "cell_type": "code",
   "execution_count": null,
   "metadata": {
    "scrolled": true
   },
   "outputs": [],
   "source": [
    "train(input_indexes)"
   ]
  },
  {
   "cell_type": "code",
   "execution_count": null,
   "metadata": {},
   "outputs": [],
   "source": [
    "m = tf.keras.Sequential()\n",
    "m.add(tf.keras.layers.Input(shape=(1000, 600)))\n",
    "m.add(tf.keras.layers.Dense(600))\n",
    "m.add(tf.keras.layers.Softmax())\n",
    "m.summary()"
   ]
  },
  {
   "cell_type": "code",
   "execution_count": null,
   "metadata": {},
   "outputs": [],
   "source": [
    "a = np.ones((1, 300, 600))\n",
    "b = np.ones((1, 300, 1))\n",
    "tf.multiply(a, b)"
   ]
  }
 ],
 "metadata": {
  "kernelspec": {
   "display_name": "Python 3",
   "language": "python",
   "name": "python3"
  },
  "language_info": {
   "codemirror_mode": {
    "name": "ipython",
    "version": 3
   },
   "file_extension": ".py",
   "mimetype": "text/x-python",
   "name": "python",
   "nbconvert_exporter": "python",
   "pygments_lexer": "ipython3",
   "version": "3.6.9"
  }
 },
 "nbformat": 4,
 "nbformat_minor": 4
}
