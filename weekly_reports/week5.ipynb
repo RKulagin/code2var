{
 "cells": [
  {
   "cell_type": "markdown",
   "source": [
    "# Week 5 status\n",
    "\n",
    "План:\n",
    "1. Список влитых PR\n",
    "2. Результат работы скомпилированного кода\n",
    "3. Список фичей на следующую неделю\n",
    "\n",
    "## Влитые PR в master.\n",
    "1. vocab -> master\n",
    "\n",
    "Написан файл vocabulary.py и тесты к нему. Файл отвевчает за создание словарей индекс-значение и значение-индекс из предобработанных словарей частот вхождения слов.\n",
    "\n",
    "## Демонстрация работы программы\n",
    "\n",
    "Вызов скрипта, который выполнит предобработку датасета"
   ],
   "metadata": {
    "collapsed": false,
    "pycharm": {
     "name": "#%% md\n"
    }
   }
  },
  {
   "cell_type": "code",
   "execution_count": 1,
   "outputs": [
    {
     "name": "stdout",
     "output_type": "stream",
     "text": [
      "WARNING: An illegal reflective access operation has occurred\r\n",
      "WARNING: Illegal reflective access by com.google.inject.internal.cglib.core.$ReflectUtils$1 (file:/usr/share/maven/lib/guice.jar) to method java.lang.ClassLoader.defineClass(java.lang.String,byte[],int,int,java.security.ProtectionDomain)\r\n",
      "WARNING: Please consider reporting this to the maintainers of com.google.inject.internal.cglib.core.$ReflectUtils$1\r\n",
      "WARNING: Use --illegal-access=warn to enable warnings of further illegal reflective access operations\r\n",
      "WARNING: All illegal access operations will be denied in a future release\r\n",
      "Obfuscating flag set  true\r\n",
      "Processing train files from dataset/java-small/training/\r\n",
      "Done. Generated dataset/java-small/java-small.train.paths.code2vec\r\n",
      "Processing test files from dataset/java-small/test/\r\n",
      "Done. Generated dataset/java-small/java-small.test.paths.code2vec\r\n",
      "Processing train files from dataset/java-small/validation/\r\n",
      "Done. Generated dataset/java-small/java-small.validation.paths.code2vec\r\n",
      "Processing train files from dataset/java-small/training/\r\n",
      "Done. Generated dataset/java-small/java-small.train.paths.code2var\r\n",
      "Processing test files from dataset/java-small/test/\r\n",
      "Done. Generated dataset/java-small/java-small.test.paths.code2var\r\n",
      "Processing train files from dataset/java-small/validation/\r\n",
      "Done. Generated dataset/java-small/java-small.validation.paths.code2var\r\n",
      "Generating vocabularies from dataset/java-small/java-small.train.paths.code2vec\r\n",
      "processed file + dataset/java-small/java-small.test.paths.code2vec\r\n",
      "generated file + dataset/java-small/java-small.csv\r\n",
      "processed file + dataset/java-small/java-small.validation.paths.code2vec\r\n",
      "generated file + dataset/java-small/java-small.csv\r\n",
      "processed file + dataset/java-small/java-small.train.paths.code2vec\r\n",
      "generated file + dataset/java-small/java-small.csv\r\n",
      "Frequency dictionaries saved to: dataset/java-small/java-small.c2v.dict\r\n"
     ]
    }
   ],
   "source": [
    "! cd ../ && ./preprocess.sh"
   ],
   "metadata": {
    "collapsed": false,
    "pycharm": {
     "name": "#%%\n"
    }
   }
  },
  {
   "cell_type": "markdown",
   "source": [
    "Пример полученных словарей"
   ],
   "metadata": {
    "collapsed": false,
    "pycharm": {
     "name": "#%% md\n"
    }
   }
  },
  {
   "cell_type": "code",
   "execution_count": 10,
   "outputs": [
    {
     "name": "stdout",
     "output_type": "stream",
     "text": [
      "--target--\n",
      "('fjrpspceppbu', '34\\n')\n",
      "('ncpeuvfuurys', '25\\n')\n",
      "('readint', '68\\n')\n",
      "('updateimpl', '4\\n')\n",
      "('nqfzbtyqxzjx', '19\\n')\n",
      "('ballgvaqnkrz', '16\\n')\n",
      "('hasremaining', '21\\n')\n",
      "('fakhtzvrnxzs', '11\\n')\n",
      "('replayingclversionmessagingversioncompression', '19\\n')\n",
      "('qxoysnybbvui', '56\\n')\n",
      "--path--\n",
      "('-971436050', '1\\n')\n",
      "('1344848348', '1\\n')\n",
      "('855198884', '2\\n')\n",
      "('-180894139', '3\\n')\n",
      "('2138400090', '4\\n')\n",
      "('784961679', '2\\n')\n",
      "('1827530239', '1\\n')\n",
      "('977506677', '1\\n')\n",
      "('1981396214', '3\\n')\n",
      "('-682202921', '2\\n')\n",
      "--token--\n",
      "('get|active|content|size', '1\\n')\n",
      "('make|mutation', '1\\n')\n",
      "('get|ticker|symbol', '3\\n')\n",
      "('await|management|tasks|completion', '1\\n')\n",
      "('to|model', '1\\n')\n",
      "('delete|persisted|model', '3\\n')\n",
      "('get|account|service', '1\\n')\n",
      "('get|model|class', '4\\n')\n",
      "('get|sic|code', '3\\n')\n",
      "('test|recovery', '3\\n')\n"
     ]
    }
   ],
   "source": [
    "import pickle\n",
    "from typing import Dict\n",
    "with open(\"../dataset/java-small/java-small.c2v.dict\", \"rb\") as file:\n",
    "    target:Dict[str, int]  = pickle.load(file)\n",
    "    path = pickle.load(file)\n",
    "    token = pickle.load(file)\n",
    "\n",
    "print (\"--target--\")\n",
    "for el in list(target.items())[:10]:\n",
    "    print (el)\n",
    "print (\"--path--\")\n",
    "for el in list(path.items())[:10]:\n",
    "    print (el)\n",
    "print (\"--token--\")\n",
    "for el in list(token.items())[:10]:\n",
    "    print (el)"
   ],
   "metadata": {
    "collapsed": false,
    "pycharm": {
     "name": "#%%\n"
    }
   }
  },
  {
   "cell_type": "markdown",
   "source": [
    "\n"
   ],
   "metadata": {
    "collapsed": false
   }
  }
 ],
 "metadata": {
  "kernelspec": {
   "display_name": "Python 3",
   "language": "python",
   "name": "python3"
  },
  "language_info": {
   "codemirror_mode": {
    "name": "ipython",
    "version": 2
   },
   "file_extension": ".py",
   "mimetype": "text/x-python",
   "name": "python",
   "nbconvert_exporter": "python",
   "pygments_lexer": "ipython2",
   "version": "2.7.6"
  }
 },
 "nbformat": 4,
 "nbformat_minor": 0
}