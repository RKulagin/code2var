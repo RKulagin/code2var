{
 "cells": [
  {
   "cell_type": "markdown",
   "metadata": {
    "pycharm": {
     "name": "#%% md\n"
    }
   },
   "source": [
    "# Week 5 status\n",
    "\n",
    "План:\n",
    "1. Список влитых PR\n",
    "2. Результат работы скомпилированного кода\n",
    "3. Список фичей на следующую неделю\n",
    "\n",
    "## Влитые PR в master.\n",
    "1. vocab -> master\n",
    "\n",
    "Написан файл vocabulary.py и тесты к нему. Файл отвевчает за создание словарей индекс-значение и значение-индекс из предобработанных словарей частот вхождения слов.\n",
    "\n",
    "## Демонстрация работы программы\n",
    "\n",
    "### Вызов скрипта, который выполнит предобработку датасета"
   ]
  },
  {
   "cell_type": "code",
   "execution_count": 5,
   "metadata": {
    "pycharm": {
     "name": "#%%\n"
    }
   },
   "outputs": [
    {
     "name": "stdout",
     "output_type": "stream",
     "text": [
      "WARNING: An illegal reflective access operation has occurred\r\n",
      "WARNING: Illegal reflective access by com.google.inject.internal.cglib.core.$ReflectUtils$1 (file:/usr/share/maven/lib/guice.jar) to method java.lang.ClassLoader.defineClass(java.lang.String,byte[],int,int,java.security.ProtectionDomain)\r\n",
      "WARNING: Please consider reporting this to the maintainers of com.google.inject.internal.cglib.core.$ReflectUtils$1\r\n",
      "WARNING: Use --illegal-access=warn to enable warnings of further illegal reflective access operations\r\n",
      "WARNING: All illegal access operations will be denied in a future release\r\n",
      "Obfuscating flag set  true\r\n",
      "Processing train files from dataset/java-small/training/\r\n",
      "Done. Generated dataset/java-small/java-small.train.paths.code2vec\r\n",
      "Processing test files from dataset/java-small/test/\r\n",
      "Done. Generated dataset/java-small/java-small.test.paths.code2vec\r\n",
      "Processing train files from dataset/java-small/validation/\r\n",
      "Done. Generated dataset/java-small/java-small.validation.paths.code2vec\r\n",
      "Processing train files from dataset/java-small/training/\r\n",
      "Done. Generated dataset/java-small/java-small.train.paths.code2var\r\n",
      "Processing test files from dataset/java-small/test/\r\n",
      "Done. Generated dataset/java-small/java-small.test.paths.code2var\r\n",
      "Processing train files from dataset/java-small/validation/\r\n",
      "Done. Generated dataset/java-small/java-small.validation.paths.code2var\r\n",
      "Generating vocabularies from dataset/java-small/java-small.train.paths.code2vec\r\n",
      "processed file + dataset/java-small/java-small.test.paths.code2vec\r\n",
      "generated file + dataset/java-small/java-small.test_vec.csv\r\n",
      "processed file + dataset/java-small/java-small.validation.paths.code2vec\r\n",
      "generated file + dataset/java-small/java-small.val_vec.csv\r\n",
      "processed file + dataset/java-small/java-small.train.paths.code2vec\r\n",
      "generated file + dataset/java-small/java-small.train_vec.csv\r\n",
      "Frequency dictionaries saved to: dataset/java-small/java-small.c2v.dict\r\n"
     ]
    }
   ],
   "source": [
    "! cd ../ && ./preprocess.sh"
   ]
  },
  {
   "cell_type": "markdown",
   "metadata": {
    "pycharm": {
     "name": "#%% md\n"
    }
   },
   "source": [
    "### Пример полученных словарей\n",
    "\n",
    "target - строка результата, который мы должны получить: имя функции или имя переменной.\n",
    "\n",
    "path - Хэш путя, который участвует в контекстном векторе лист-путь-лист\n",
    "\n",
    "token - лист в контекстном векторе."
   ]
  },
  {
   "cell_type": "code",
   "execution_count": 6,
   "metadata": {
    "pycharm": {
     "name": "#%%\n"
    }
   },
   "outputs": [
    {
     "name": "stdout",
     "output_type": "stream",
     "text": [
      "--token--\n",
      "('before', '2\\n')\n",
      "('foundeventlogname', '13\\n')\n",
      "('exception', '280\\n')\n",
      "('errorongettingtxidfrombusinessactivitymanager', '5\\n')\n",
      "('ymcuguuiqsae', '88\\n')\n",
      "('after', '2\\n')\n",
      "('cannotcomplete', '53\\n')\n",
      "('clear', '5\\n')\n",
      "('swafpssvumsv', '11\\n')\n",
      "('baparticipantmanager', '16\\n')\n",
      "--path--\n",
      "('-1684293724', '4\\n')\n",
      "('-1720108062', '1\\n')\n",
      "('151054703', '2\\n')\n",
      "('344816691', '1\\n')\n",
      "('1666795156', '1\\n')\n",
      "('2141272575', '1\\n')\n",
      "('-1671246645', '1\\n')\n",
      "('2132779697', '1\\n')\n",
      "('1075767788', '16\\n')\n",
      "('-2063740873', '1\\n')\n",
      "--target--\n",
      "('test|wsba|participant|cannot|complete', '1\\n')\n",
      "('intercept', '1\\n')\n",
      "('test|wsba|participant|client|cancel', '1\\n')\n",
      "('test|wsba|participant|complete|simple', '1\\n')\n",
      "('test|wsba|participant|complete|single', '1\\n')\n",
      "('teardown|test', '1\\n')\n",
      "('setup|test', '1\\n')\n",
      "('test|wsba|participant|do|not|complete', '1\\n')\n",
      "('is|post|construct|called', '1\\n')\n",
      "('remove|byteman|script', '1\\n')\n"
     ]
    }
   ],
   "source": [
    "import pickle\n",
    "from typing import Dict\n",
    "\n",
    "dataset_path = \"../dataset/java-small/java-small.c2v.dict\"\n",
    "\n",
    "with open(dataset_path, \"rb\") as file:\n",
    "    token = pickle.load(file)\n",
    "    path = pickle.load(file)\n",
    "    target = pickle.load(file)\n",
    "\n",
    "\n",
    "print (\"--token--\")\n",
    "for el in list(token.items())[:10]:\n",
    "    print (el)\n",
    "print (\"--path--\")\n",
    "for el in list(path.items())[:10]:\n",
    "    print (el)\n",
    "print (\"--target--\")\n",
    "for el in list(target.items())[:10]:\n",
    "    print (el)"
   ]
  },
  {
   "cell_type": "markdown",
   "metadata": {},
   "source": [
    "### Генерация индексированных словарей. Файл vocabulary.py"
   ]
  },
  {
   "cell_type": "code",
   "execution_count": 7,
   "metadata": {
    "pycharm": {
     "name": "#%%\n"
    }
   },
   "outputs": [
    {
     "name": "stdout",
     "output_type": "stream",
     "text": [
      "../dataset/java-small/java-small.c2v.dict\n",
      "Creating vocab from ../dataset/java-small/java-small.c2v.dict\n",
      "Loading frequency dicts from ../dataset/java-small/java-small.c2v.dict\n",
      "Loading token freq dict\n",
      "Loading path freq dict\n",
      "Loading target freq dict\n",
      "Creating token vocab\n",
      "Creating vocab from frequency dictionary of 130 elements\n",
      "Created token vocab\n",
      "Creating path vocab\n",
      "Creating vocab from frequency dictionary of 911 elements\n",
      "Created path vocab\n",
      "Creating target vocab\n",
      "Creating vocab from frequency dictionary of 18 elements\n",
      "Created target vocab\n",
      "Created all vocabs\n"
     ]
    }
   ],
   "source": [
    "import config\n",
    "from vocabulary import Code2VecVocabs\n",
    "\n",
    "config.config.CREATE_VOCAB = True\n",
    "config.config.TRAINING_FREQ_DICTS_PATH = dataset_path\n",
    "print (config.config.TRAINING_FREQ_DICTS_PATH)\n",
    "c2v_vocabs = Code2VecVocabs()"
   ]
  },
  {
   "cell_type": "code",
   "execution_count": 8,
   "metadata": {
    "pycharm": {
     "name": "#%%\n"
    }
   },
   "outputs": [
    {
     "name": "stdout",
     "output_type": "stream",
     "text": [
      "--target--\n",
      "('test|wsba|participant|cannot|complete', 0)\n",
      "('intercept', 1)\n",
      "('test|wsba|participant|client|cancel', 2)\n",
      "('test|wsba|participant|complete|simple', 3)\n",
      "('test|wsba|participant|complete|single', 4)\n",
      "('teardown|test', 5)\n",
      "('setup|test', 6)\n",
      "('test|wsba|participant|do|not|complete', 7)\n",
      "('is|post|construct|called', 8)\n",
      "('remove|byteman|script', 9)\n",
      "--path--\n",
      "('-1720108062', 0)\n",
      "('344816691', 1)\n",
      "('1666795156', 2)\n",
      "('2141272575', 3)\n",
      "('-1671246645', 4)\n",
      "('2132779697', 5)\n",
      "('-2063740873', 6)\n",
      "('-1416412045', 7)\n",
      "('711992297', 8)\n",
      "('297121455', 9)\n",
      "--token--\n",
      "('baparticipantcomplservicepreparesuccessfulnotifyin', 0)\n",
      "('baparticipantcomplservicepreparedfailnotifyingcoor', 1)\n",
      "('completed', 2)\n",
      "('begin', 3)\n",
      "('info', 4)\n",
      "('3', 5)\n",
      "('ispresent', 6)\n",
      "('setparticipantcount', 7)\n",
      "('swafpssvumsv', 8)\n",
      "('tostring', 9)\n"
     ]
    }
   ],
   "source": [
    "print (\"--target--\")\n",
    "for el in list(c2v_vocabs.target_vocab.word_to_index.items())[:10]:\n",
    "    print(el)\n",
    "\n",
    "print (\"--path--\")\n",
    "for el in list(c2v_vocabs.path_vocab.word_to_index.items())[:10]:\n",
    "    print(el)\n",
    "\n",
    "print (\"--token--\")\n",
    "for el in list(c2v_vocabs.token_vocab.word_to_index.items())[:10]:\n",
    "    print(el)"
   ]
  }
 ],
 "metadata": {
  "kernelspec": {
   "display_name": "Python 3",
   "language": "python",
   "name": "python3"
  },
  "language_info": {
   "codemirror_mode": {
    "name": "ipython",
    "version": 3
   },
   "file_extension": ".py",
   "mimetype": "text/x-python",
   "name": "python",
   "nbconvert_exporter": "python",
   "pygments_lexer": "ipython3",
   "version": "3.6.9"
  }
 },
 "nbformat": 4,
 "nbformat_minor": 1
}