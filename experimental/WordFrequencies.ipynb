{
 "cells": [
  {
   "cell_type": "markdown",
   "metadata": {},
   "source": [
    "## Количество различных слов в названиях функций"
   ]
  },
  {
   "cell_type": "markdown",
   "metadata": {},
   "source": [
    "Пути всех vocab-ов с таргетами (названиями функций и частотой их встречаемости):"
   ]
  },
  {
   "cell_type": "code",
   "execution_count": 1,
   "metadata": {},
   "outputs": [],
   "source": [
    "TRAIN_VOCAB_PATH = \"../dataset/java-small/java-small.train.functions.vocab\"\n",
    "TEST_VOCAB_PATH = \"../dataset/java-small/java-small.test.functions.vocab\"\n",
    "VALIDATION_VOCAB_PATH = \"../dataset/java-small/java-small.validation.functions.vocab\""
   ]
  },
  {
   "cell_type": "markdown",
   "metadata": {},
   "source": [
    "Загрузим все vocab-ы в pandas-таблицы:"
   ]
  },
  {
   "cell_type": "code",
   "execution_count": 63,
   "metadata": {},
   "outputs": [
    {
     "data": {
      "text/html": [
       "<div>\n",
       "<style scoped>\n",
       "    .dataframe tbody tr th:only-of-type {\n",
       "        vertical-align: middle;\n",
       "    }\n",
       "\n",
       "    .dataframe tbody tr th {\n",
       "        vertical-align: top;\n",
       "    }\n",
       "\n",
       "    .dataframe thead th {\n",
       "        text-align: right;\n",
       "    }\n",
       "</style>\n",
       "<table border=\"1\" class=\"dataframe\">\n",
       "  <thead>\n",
       "    <tr style=\"text-align: right;\">\n",
       "      <th></th>\n",
       "      <th>Function</th>\n",
       "      <th>Frequency</th>\n",
       "    </tr>\n",
       "  </thead>\n",
       "  <tbody>\n",
       "    <tr>\n",
       "      <th>0</th>\n",
       "      <td>set|replace</td>\n",
       "      <td>1</td>\n",
       "    </tr>\n",
       "    <tr>\n",
       "      <th>1</th>\n",
       "      <td>add|current|invocation|context|factory</td>\n",
       "      <td>6</td>\n",
       "    </tr>\n",
       "    <tr>\n",
       "      <th>2</th>\n",
       "      <td>test|register|notification|listener|for|non|ex...</td>\n",
       "      <td>1</td>\n",
       "    </tr>\n",
       "    <tr>\n",
       "      <th>3</th>\n",
       "      <td>assert|after|test|method|with|transactional|te...</td>\n",
       "      <td>1</td>\n",
       "    </tr>\n",
       "    <tr>\n",
       "      <th>4</th>\n",
       "      <td>get|keystore|path</td>\n",
       "      <td>1</td>\n",
       "    </tr>\n",
       "    <tr>\n",
       "      <th>...</th>\n",
       "      <td>...</td>\n",
       "      <td>...</td>\n",
       "    </tr>\n",
       "    <tr>\n",
       "      <th>40646</th>\n",
       "      <td>add|component|interceptor</td>\n",
       "      <td>2</td>\n",
       "    </tr>\n",
       "    <tr>\n",
       "      <th>40647</th>\n",
       "      <td>existing|transaction|with|participation|using|...</td>\n",
       "      <td>1</td>\n",
       "    </tr>\n",
       "    <tr>\n",
       "      <th>40648</th>\n",
       "      <td>set|target|field</td>\n",
       "      <td>1</td>\n",
       "    </tr>\n",
       "    <tr>\n",
       "      <th>40649</th>\n",
       "      <td>set|authenticator</td>\n",
       "      <td>2</td>\n",
       "    </tr>\n",
       "    <tr>\n",
       "      <th>40650</th>\n",
       "      <td>resolve|media|types|from|mapping</td>\n",
       "      <td>1</td>\n",
       "    </tr>\n",
       "  </tbody>\n",
       "</table>\n",
       "<p>40651 rows × 2 columns</p>\n",
       "</div>"
      ],
      "text/plain": [
       "                                                Function  Frequency\n",
       "0                                            set|replace          1\n",
       "1                 add|current|invocation|context|factory          6\n",
       "2      test|register|notification|listener|for|non|ex...          1\n",
       "3      assert|after|test|method|with|transactional|te...          1\n",
       "4                                      get|keystore|path          1\n",
       "...                                                  ...        ...\n",
       "40646                          add|component|interceptor          2\n",
       "40647  existing|transaction|with|participation|using|...          1\n",
       "40648                                   set|target|field          1\n",
       "40649                                  set|authenticator          2\n",
       "40650                   resolve|media|types|from|mapping          1\n",
       "\n",
       "[40651 rows x 2 columns]"
      ]
     },
     "metadata": {},
     "output_type": "display_data"
    }
   ],
   "source": [
    "import pandas as pd\n",
    "\n",
    "train_df = pd.read_csv(TRAIN_VOCAB_PATH, sep=' ', names=[\"Function\", \"Frequency\"])\n",
    "test_df = pd.read_csv(TEST_VOCAB_PATH, sep=' ', names=[\"Function\", \"Frequency\"])\n",
    "validation_df = pd.read_csv(VALIDATION_VOCAB_PATH, sep=' ', names=[\"Function\", \"Frequency\"])\n",
    "\n",
    "display(train_df)"
   ]
  },
  {
   "cell_type": "markdown",
   "metadata": {},
   "source": [
    "Сгруппируем по дубликатам и просуммируем:"
   ]
  },
  {
   "cell_type": "code",
   "execution_count": 64,
   "metadata": {
    "scrolled": false
   },
   "outputs": [
    {
     "data": {
      "text/html": [
       "<div>\n",
       "<style scoped>\n",
       "    .dataframe tbody tr th:only-of-type {\n",
       "        vertical-align: middle;\n",
       "    }\n",
       "\n",
       "    .dataframe tbody tr th {\n",
       "        vertical-align: top;\n",
       "    }\n",
       "\n",
       "    .dataframe thead th {\n",
       "        text-align: right;\n",
       "    }\n",
       "</style>\n",
       "<table border=\"1\" class=\"dataframe\">\n",
       "  <thead>\n",
       "    <tr style=\"text-align: right;\">\n",
       "      <th></th>\n",
       "      <th>Function</th>\n",
       "      <th>Frequency</th>\n",
       "    </tr>\n",
       "  </thead>\n",
       "  <tbody>\n",
       "    <tr>\n",
       "      <th>0</th>\n",
       "      <td>$</td>\n",
       "      <td>5</td>\n",
       "    </tr>\n",
       "    <tr>\n",
       "      <th>1</th>\n",
       "      <td>_</td>\n",
       "      <td>67</td>\n",
       "    </tr>\n",
       "    <tr>\n",
       "      <th>2</th>\n",
       "      <td>a</td>\n",
       "      <td>165</td>\n",
       "    </tr>\n",
       "    <tr>\n",
       "      <th>3</th>\n",
       "      <td>aabb|expand</td>\n",
       "      <td>1</td>\n",
       "    </tr>\n",
       "    <tr>\n",
       "      <th>4</th>\n",
       "      <td>aabb|overlap</td>\n",
       "      <td>1</td>\n",
       "    </tr>\n",
       "    <tr>\n",
       "      <th>...</th>\n",
       "      <td>...</td>\n",
       "      <td>...</td>\n",
       "    </tr>\n",
       "    <tr>\n",
       "      <th>68387</th>\n",
       "      <td>zip|dir</td>\n",
       "      <td>1</td>\n",
       "    </tr>\n",
       "    <tr>\n",
       "      <th>68388</th>\n",
       "      <td>zk|do|with|retries</td>\n",
       "      <td>1</td>\n",
       "    </tr>\n",
       "    <tr>\n",
       "      <th>68389</th>\n",
       "      <td>zone|id</td>\n",
       "      <td>1</td>\n",
       "    </tr>\n",
       "    <tr>\n",
       "      <th>68390</th>\n",
       "      <td>zone|id|from|resolver</td>\n",
       "      <td>1</td>\n",
       "    </tr>\n",
       "    <tr>\n",
       "      <th>68391</th>\n",
       "      <td>zoom</td>\n",
       "      <td>9</td>\n",
       "    </tr>\n",
       "  </tbody>\n",
       "</table>\n",
       "<p>68392 rows × 2 columns</p>\n",
       "</div>"
      ],
      "text/plain": [
       "                    Function  Frequency\n",
       "0                          $          5\n",
       "1                          _         67\n",
       "2                          a        165\n",
       "3                aabb|expand          1\n",
       "4               aabb|overlap          1\n",
       "...                      ...        ...\n",
       "68387                zip|dir          1\n",
       "68388     zk|do|with|retries          1\n",
       "68389                zone|id          1\n",
       "68390  zone|id|from|resolver          1\n",
       "68391                   zoom          9\n",
       "\n",
       "[68392 rows x 2 columns]"
      ]
     },
     "metadata": {},
     "output_type": "display_data"
    }
   ],
   "source": [
    "conc = pd.concat([train_df, test_df, validation_df], ignore_index=True)\n",
    "conc = conc.groupby('Function').sum().reset_index()\n",
    "\n",
    "display(conc)"
   ]
  },
  {
   "cell_type": "markdown",
   "metadata": {},
   "source": [
    "Сохраним получившиеся данные:"
   ]
  },
  {
   "cell_type": "code",
   "execution_count": 65,
   "metadata": {},
   "outputs": [],
   "source": [
    "CONCATENATED_DF_PATH = \"../dataset/java-small/java-small.dataset.functions.vocab\"\n",
    "\n",
    "conc.to_csv(CONCATENATED_DF_PATH, index=False)"
   ]
  },
  {
   "cell_type": "markdown",
   "metadata": {},
   "source": [
    "Split по названию функции:"
   ]
  },
  {
   "cell_type": "code",
   "execution_count": 70,
   "metadata": {},
   "outputs": [
    {
     "data": {
      "text/plain": [
       "0                               [$]\n",
       "1                               [_]\n",
       "2                               [a]\n",
       "3                    [aabb, expand]\n",
       "4                   [aabb, overlap]\n",
       "                    ...            \n",
       "68387                    [zip, dir]\n",
       "68388       [zk, do, with, retries]\n",
       "68389                    [zone, id]\n",
       "68390    [zone, id, from, resolver]\n",
       "68391                        [zoom]\n",
       "Name: Function, Length: 68392, dtype: object"
      ]
     },
     "metadata": {},
     "output_type": "display_data"
    }
   ],
   "source": [
    "words = conc['Function'].apply(lambda x: str.split(x, '|'))\n",
    "\n",
    "display(words)"
   ]
  },
  {
   "cell_type": "code",
   "execution_count": 87,
   "metadata": {
    "scrolled": false
   },
   "outputs": [],
   "source": [
    "from collections import Counter\n",
    "\n",
    "cnt = Counter()\n",
    "for seq in words:\n",
    "    cnt.update(seq)\n",
    "    \n",
    "srt = sorted(cnt.items(), key=lambda x: x[1], reverse=True)\n",
    "srt_labels, srt_freqs = list(map(list, zip(*srt)))\n",
    "srt_labels = srt_labels[:25] + ['other words']\n",
    "srt_freqs = srt_freqs[:25] + [sum(srt_freqs[25:])]"
   ]
  },
  {
   "cell_type": "markdown",
   "metadata": {},
   "source": [
    "### Распределение слов в названиях функций без учета частоты встречаемости"
   ]
  },
  {
   "cell_type": "code",
   "execution_count": null,
   "metadata": {},
   "outputs": [],
   "source": [
    "import matplotlib.pyplot as plt\n",
    "import seaborn as sns; sns.set()\n",
    "\n",
    "plt.figure(figsize=(10, 10))\n",
    "plt.pie(srt_freqs, labels=srt_labels)\n",
    "plt.legend()\n",
    "plt.plot();"
   ]
  },
  {
   "cell_type": "code",
   "execution_count": null,
   "metadata": {},
   "outputs": [],
   "source": []
  }
 ],
 "metadata": {
  "kernelspec": {
   "display_name": "Python 3",
   "language": "python",
   "name": "python3"
  },
  "language_info": {
   "codemirror_mode": {
    "name": "ipython",
    "version": 3
   },
   "file_extension": ".py",
   "mimetype": "text/x-python",
   "name": "python",
   "nbconvert_exporter": "python",
   "pygments_lexer": "ipython3",
   "version": "3.6.9"
  }
 },
 "nbformat": 4,
 "nbformat_minor": 4
}
